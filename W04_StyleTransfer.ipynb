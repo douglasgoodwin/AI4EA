{
 "cells": [
  {
   "cell_type": "markdown",
   "id": "2f8fc75e-d2d4-49c5-9924-9420e11121fe",
   "metadata": {},
   "source": [
    "# Do style transfer on a video\n",
    "\n",
    "1. Install style stransfer code\n",
    "1. Upload a video to the server\n",
    "1. upload the style image.\n",
    "1. NEW! Set the variables below to your file names. Example: my videl is called `MilliVanilli_Loop.mp4` and my style image is called `style.jpg`\n",
    "1. make a folder \"in\" to hold the video stills (the IN files)\n",
    "1. make a folder \"out\" to hold the styled filed (the OUT files)\n",
    "1. use FFMPEG to generate frames in the IN folder\n",
    "1. Run the style transfer command on those frames; output to the OUT folder\n",
    "1. zip the files for download"
   ]
  },
  {
   "cell_type": "code",
   "execution_count": 1,
   "id": "0ab2418d-a501-41be-bb0c-f7bfc5a40867",
   "metadata": {
    "execution": {
     "iopub.execute_input": "2023-10-08T22:13:53.677369Z",
     "iopub.status.busy": "2023-10-08T22:13:53.676519Z",
     "iopub.status.idle": "2023-10-08T22:13:53.683656Z",
     "shell.execute_reply": "2023-10-08T22:13:53.682925Z",
     "shell.execute_reply.started": "2023-10-08T22:13:53.677342Z"
    }
   },
   "outputs": [],
   "source": [
    "# Set up your file variables\n",
    "myvideo = \"MilliVanilli_Loop.mp4\"\n",
    "mystyle = \"/notebooks/Riley,_Shadowplay.jpg\"\n",
    "framewidth = 512"
   ]
  },
  {
   "cell_type": "code",
   "execution_count": 2,
   "id": "178c4630-902b-40fa-89b5-e1852f1c4f10",
   "metadata": {
    "execution": {
     "iopub.execute_input": "2023-10-08T22:13:56.648310Z",
     "iopub.status.busy": "2023-10-08T22:13:56.647753Z",
     "iopub.status.idle": "2023-10-08T22:14:05.740563Z",
     "shell.execute_reply": "2023-10-08T22:14:05.739874Z",
     "shell.execute_reply.started": "2023-10-08T22:13:56.648286Z"
    }
   },
   "outputs": [
    {
     "name": "stdout",
     "output_type": "stream",
     "text": [
      "/notebooks\n",
      "Collecting git+https://github.com/crowsonkb/style-transfer-pytorch.git\n",
      "  Cloning https://github.com/crowsonkb/style-transfer-pytorch.git to /tmp/pip-req-build-c92n4gxb\n",
      "  Running command git clone --filter=blob:none --quiet https://github.com/crowsonkb/style-transfer-pytorch.git /tmp/pip-req-build-c92n4gxb\n",
      "  Resolved https://github.com/crowsonkb/style-transfer-pytorch.git to commit e7e2c7134e3937be05ff9f5fcc0873fe5ceb6060\n",
      "  Preparing metadata (setup.py) ... \u001b[?25ldone\n",
      "\u001b[?25hRequirement already satisfied: aiohttp>=3.7.2 in /usr/local/lib/python3.9/dist-packages (from style-transfer-pytorch==0.1) (3.8.3)\n",
      "Requirement already satisfied: numpy>=1.19.2 in /usr/local/lib/python3.9/dist-packages (from style-transfer-pytorch==0.1) (1.23.4)\n",
      "Requirement already satisfied: Pillow>=8.0.0 in /usr/local/lib/python3.9/dist-packages (from style-transfer-pytorch==0.1) (9.2.0)\n",
      "Requirement already satisfied: tifffile>=2020.9.3 in /usr/local/lib/python3.9/dist-packages (from style-transfer-pytorch==0.1) (2023.1.23.1)\n",
      "Requirement already satisfied: torch>=1.7.1 in /usr/local/lib/python3.9/dist-packages (from style-transfer-pytorch==0.1) (1.12.1+cu116)\n",
      "Requirement already satisfied: torchvision>=0.8.2 in /usr/local/lib/python3.9/dist-packages (from style-transfer-pytorch==0.1) (0.13.1+cu116)\n",
      "Requirement already satisfied: tqdm>=4.46.0 in /usr/local/lib/python3.9/dist-packages (from style-transfer-pytorch==0.1) (4.64.1)\n",
      "Requirement already satisfied: attrs>=17.3.0 in /usr/local/lib/python3.9/dist-packages (from aiohttp>=3.7.2->style-transfer-pytorch==0.1) (18.2.0)\n",
      "Requirement already satisfied: frozenlist>=1.1.1 in /usr/local/lib/python3.9/dist-packages (from aiohttp>=3.7.2->style-transfer-pytorch==0.1) (1.3.3)\n",
      "Requirement already satisfied: aiosignal>=1.1.2 in /usr/local/lib/python3.9/dist-packages (from aiohttp>=3.7.2->style-transfer-pytorch==0.1) (1.3.1)\n",
      "Requirement already satisfied: charset-normalizer<3.0,>=2.0 in /usr/local/lib/python3.9/dist-packages (from aiohttp>=3.7.2->style-transfer-pytorch==0.1) (2.1.1)\n",
      "Requirement already satisfied: async-timeout<5.0,>=4.0.0a3 in /usr/local/lib/python3.9/dist-packages (from aiohttp>=3.7.2->style-transfer-pytorch==0.1) (4.0.2)\n",
      "Requirement already satisfied: yarl<2.0,>=1.0 in /usr/local/lib/python3.9/dist-packages (from aiohttp>=3.7.2->style-transfer-pytorch==0.1) (1.8.2)\n",
      "Requirement already satisfied: multidict<7.0,>=4.5 in /usr/local/lib/python3.9/dist-packages (from aiohttp>=3.7.2->style-transfer-pytorch==0.1) (6.0.4)\n",
      "Requirement already satisfied: typing-extensions in /usr/local/lib/python3.9/dist-packages (from torch>=1.7.1->style-transfer-pytorch==0.1) (4.4.0)\n",
      "Requirement already satisfied: requests in /usr/local/lib/python3.9/dist-packages (from torchvision>=0.8.2->style-transfer-pytorch==0.1) (2.28.2)\n",
      "Requirement already satisfied: idna>=2.0 in /usr/lib/python3/dist-packages (from yarl<2.0,>=1.0->aiohttp>=3.7.2->style-transfer-pytorch==0.1) (2.8)\n",
      "Requirement already satisfied: urllib3<1.27,>=1.21.1 in /usr/local/lib/python3.9/dist-packages (from requests->torchvision>=0.8.2->style-transfer-pytorch==0.1) (1.26.14)\n",
      "Requirement already satisfied: certifi>=2017.4.17 in /usr/lib/python3/dist-packages (from requests->torchvision>=0.8.2->style-transfer-pytorch==0.1) (2019.11.28)\n",
      "Building wheels for collected packages: style-transfer-pytorch\n",
      "  Building wheel for style-transfer-pytorch (setup.py) ... \u001b[?25ldone\n",
      "\u001b[?25h  Created wheel for style-transfer-pytorch: filename=style_transfer_pytorch-0.1-py3-none-any.whl size=52665 sha256=b1eddb894dad670e167c360c8046105df47fc3708348e9c1002c472a0e2920b7\n",
      "  Stored in directory: /tmp/pip-ephem-wheel-cache-cu4grndc/wheels/66/5a/04/1de4ed3cbfa36157ab5b00bd8f269d5bf87bf7243b41ac3c62\n",
      "Successfully built style-transfer-pytorch\n",
      "Installing collected packages: style-transfer-pytorch\n",
      "Successfully installed style-transfer-pytorch-0.1\n",
      "\u001b[33mWARNING: Running pip as the 'root' user can result in broken permissions and conflicting behaviour with the system package manager. It is recommended to use a virtual environment instead: https://pip.pypa.io/warnings/venv\u001b[0m\u001b[33m\n",
      "\u001b[0m"
     ]
    }
   ],
   "source": [
    "# install Katherine Crowson's Style Transfer PyTorch code\n",
    "%cd /notebooks\n",
    "\n",
    "!pip install git+https://github.com/crowsonkb/style-transfer-pytorch.git"
   ]
  },
  {
   "cell_type": "code",
   "execution_count": 3,
   "id": "d3c91182-92de-49d5-98dc-da4e1714c7d2",
   "metadata": {
    "execution": {
     "iopub.execute_input": "2023-10-08T22:14:05.741900Z",
     "iopub.status.busy": "2023-10-08T22:14:05.741694Z",
     "iopub.status.idle": "2023-10-08T22:14:07.733284Z",
     "shell.execute_reply": "2023-10-08T22:14:07.732470Z",
     "shell.execute_reply.started": "2023-10-08T22:14:05.741875Z"
    }
   },
   "outputs": [
    {
     "name": "stdout",
     "output_type": "stream",
     "text": [
      "usage: style_transfer [-h] [--output OUTPUT]\n",
      "                      [--style-weights STYLE_WEIGHT [STYLE_WEIGHT ...]]\n",
      "                      [--devices DEVICES [DEVICES ...]]\n",
      "                      [--random-seed RANDOM_SEED]\n",
      "                      [--content-weight CONTENT_WEIGHT]\n",
      "                      [--tv-weight TV_WEIGHT] [--optimizer {adam,lbfgs}]\n",
      "                      [--min-scale MIN_SCALE] [--end-scale END_SCALE]\n",
      "                      [--iterations ITERATIONS]\n",
      "                      [--initial-iterations INITIAL_ITERATIONS]\n",
      "                      [--save-every SAVE_EVERY] [--step-size STEP_SIZE]\n",
      "                      [--avg-decay AVG_DECAY]\n",
      "                      [--init {content,gray,uniform,normal,style_stats}]\n",
      "                      [--style-scale-fac STYLE_SCALE_FAC]\n",
      "                      [--style-size STYLE_SIZE] [--pooling {max,average,l2}]\n",
      "                      [--proof PROOF] [--web] [--host HOST] [--port PORT]\n",
      "                      [--browser [BROWSER]]\n",
      "                      content style [style ...]\n",
      "\n",
      "Neural style transfer (https://arxiv.org/abs/1508.06576) in PyTorch.\n",
      "\n",
      "positional arguments:\n",
      "  content               the content image\n",
      "  style                 the style images\n",
      "\n",
      "optional arguments:\n",
      "  -h, --help            show this help message and exit\n",
      "  --output OUTPUT, -o OUTPUT\n",
      "                        the output image (default: out.png)\n",
      "  --style-weights STYLE_WEIGHT [STYLE_WEIGHT ...], -sw STYLE_WEIGHT [STYLE_WEIGHT ...]\n",
      "                        the relative weights for each style image (default:\n",
      "                        None)\n",
      "  --devices DEVICES [DEVICES ...]\n",
      "                        the device names to use (omit for auto) (default: [])\n",
      "  --random-seed RANDOM_SEED, -r RANDOM_SEED\n",
      "                        the random seed (default: 0)\n",
      "  --content-weight CONTENT_WEIGHT, -cw CONTENT_WEIGHT\n",
      "                        the content weight (default: 0.015)\n",
      "  --tv-weight TV_WEIGHT, -tw TV_WEIGHT\n",
      "                        the smoothing weight (default: 2.0)\n",
      "  --optimizer {adam,lbfgs}\n",
      "                        the optimizer to use (default: adam)\n",
      "  --min-scale MIN_SCALE, -ms MIN_SCALE\n",
      "                        the minimum scale (max image dim), in pixels (default:\n",
      "                        128)\n",
      "  --end-scale END_SCALE, -s END_SCALE\n",
      "                        the final scale (max image dim), in pixels (default:\n",
      "                        512)\n",
      "  --iterations ITERATIONS, -i ITERATIONS\n",
      "                        the number of iterations per scale (default: 500)\n",
      "  --initial-iterations INITIAL_ITERATIONS, -ii INITIAL_ITERATIONS\n",
      "                        the number of iterations on the first scale (default:\n",
      "                        1000)\n",
      "  --save-every SAVE_EVERY\n",
      "                        save the image every SAVE_EVERY iterations (default:\n",
      "                        50)\n",
      "  --step-size STEP_SIZE, -ss STEP_SIZE\n",
      "                        the step size (learning rate) for Adam (default: 0.02)\n",
      "  --avg-decay AVG_DECAY, -ad AVG_DECAY\n",
      "                        the EMA decay rate for iterate averaging (default:\n",
      "                        0.99)\n",
      "  --init {content,gray,uniform,normal,style_stats}\n",
      "                        the initial image (default: content)\n",
      "  --style-scale-fac STYLE_SCALE_FAC\n",
      "                        the relative scale of the style to the content\n",
      "                        (default: 1.0)\n",
      "  --style-size STYLE_SIZE\n",
      "                        the fixed scale of the style at different content\n",
      "                        scales (default: None)\n",
      "  --pooling {max,average,l2}\n",
      "                        the model's pooling mode (default: max)\n",
      "  --proof PROOF         the ICC color profile (CMYK) for soft proofing the\n",
      "                        content and styles (default: None)\n",
      "  --web                 enable the web interface (default: False)\n",
      "  --host HOST           the host the web interface binds to (default: 0.0.0.0)\n",
      "  --port PORT           the port the web interface binds to (default: 8080)\n",
      "  --browser [BROWSER]   open a web browser (specify the browser if not system\n",
      "                        default) (default: )\n"
     ]
    }
   ],
   "source": [
    "# Does it work?\n",
    "!style_transfer -h"
   ]
  },
  {
   "cell_type": "code",
   "execution_count": 4,
   "id": "f17881a3-76f6-435e-8533-97b4103c1531",
   "metadata": {
    "execution": {
     "iopub.execute_input": "2023-10-04T21:00:40.725586Z",
     "iopub.status.busy": "2023-10-04T21:00:40.725229Z",
     "iopub.status.idle": "2023-10-04T21:00:43.241507Z",
     "shell.execute_reply": "2023-10-04T21:00:43.240377Z",
     "shell.execute_reply.started": "2023-10-04T21:00:40.725558Z"
    }
   },
   "outputs": [
    {
     "name": "stdout",
     "output_type": "stream",
     "text": [
      "updating: out/ (stored 0%)\n",
      "updating: out/00003.jpg.png (deflated 0%)\n"
     ]
    }
   ],
   "source": [
    "# clean up the old work\n",
    "!zip -r out.zip out ;\n",
    "!rm -Rf out\n",
    "!rm -Rf in\n",
    "!rm batch.txt\n",
    "\n",
    "# make a folder for the transformed files\n",
    "!mkdir in\n",
    "\n",
    "# make another folder for the output\n",
    "!mkdir out"
   ]
  },
  {
   "cell_type": "code",
   "execution_count": 5,
   "id": "b507487f-edbe-441c-ad12-60eea776d4b4",
   "metadata": {
    "execution": {
     "iopub.execute_input": "2023-10-04T21:00:43.312152Z",
     "iopub.status.busy": "2023-10-04T21:00:43.311839Z",
     "iopub.status.idle": "2023-10-04T21:00:43.847277Z",
     "shell.execute_reply": "2023-10-04T21:00:43.846025Z",
     "shell.execute_reply.started": "2023-10-04T21:00:43.312125Z"
    }
   },
   "outputs": [],
   "source": [
    "# Use FFMPEG to generate frames\n",
    "!ffmpeg -i $myvideo in/%05d.jpg &> /dev/null"
   ]
  },
  {
   "cell_type": "code",
   "execution_count": null,
   "id": "33513907-58a5-4d06-91ab-dd735e5bb99b",
   "metadata": {
    "execution": {
     "iopub.execute_input": "2023-10-04T21:00:09.243005Z",
     "iopub.status.busy": "2023-10-04T21:00:09.242217Z"
    }
   },
   "outputs": [
    {
     "name": "stdout",
     "output_type": "stream",
     "text": [
      "hi! let's transfer the tyle from style.jpg to your video stills\n",
      "\n",
      "Here are the first 10 commands that I'm planning to run\n",
      "style_transfer in/00001.jpg style.jpg -s 160 -o out/00001.jpg.png &> /dev/null\n",
      "style_transfer in/00002.jpg style.jpg -s 160 -o out/00002.jpg.png &> /dev/null\n",
      "style_transfer in/00003.jpg style.jpg -s 160 -o out/00003.jpg.png &> /dev/null\n",
      "style_transfer in/00004.jpg style.jpg -s 160 -o out/00004.jpg.png &> /dev/null\n",
      "style_transfer in/00005.jpg style.jpg -s 160 -o out/00005.jpg.png &> /dev/null\n",
      "style_transfer in/00006.jpg style.jpg -s 160 -o out/00006.jpg.png &> /dev/null\n",
      "style_transfer in/00007.jpg style.jpg -s 160 -o out/00007.jpg.png &> /dev/null\n",
      "style_transfer in/00008.jpg style.jpg -s 160 -o out/00008.jpg.png &> /dev/null\n",
      "style_transfer in/00009.jpg style.jpg -s 160 -o out/00009.jpg.png &> /dev/null\n",
      "style_transfer in/00010.jpg style.jpg -s 160 -o out/00010.jpg.png &> /dev/null\n",
      "Good? Let's GO!\n",
      "\n",
      "working on in/00001.jpg...\n",
      "^C\n",
      "\tout/00001.jpg.png ready!\n",
      "working on in/00002.jpg...\n",
      "^C\n",
      "\tout/00002.jpg.png ready!\n",
      "working on in/00003.jpg...\n"
     ]
    }
   ],
   "source": [
    "# transform each file with style transfer\n",
    "import os\n",
    "\n",
    "print(f\"hi! let's transfer the tyle from {mystyle} to your video stills\\n\")\n",
    "\n",
    "# sort the still by name\n",
    "infiles = []\n",
    "for filename in os.listdir(\"in\"):\n",
    "    if filename.endswith(\"jpg\"):\n",
    "        infiles.append(filename)\n",
    "infiles = sorted(infiles)\n",
    "\n",
    "# OPTIONAL make a batch file to run from the terminal\n",
    "batchfile = \"batch.txt\"\n",
    "with open(batchfile, \"a\") as myfile:\n",
    "    for filename in infiles:\n",
    "        infile = f\"in/{filename}\"\n",
    "        outfile = f\"out/{filename}.png\"\n",
    "        msg = f\"style_transfer {infile} {mystyle} -s {framewidth} -o {outfile} &> /dev/null\\n\"\n",
    "        myfile.write(msg)\n",
    "    \n",
    "# preview what's going to happen\n",
    "print(\"Here are the first 10 commands that I'm planning to run\")\n",
    "for filename in infiles[:10]:\n",
    "    infile = f\"in/{filename}\"\n",
    "    outfile = f\"out/{filename}.png\"\n",
    "    print(f\"style_transfer {infile} {mystyle} -s {framewidth} -o {outfile} &> /dev/null\")\n",
    "    \n",
    "print(\"Good? Let's GO!\\n\")\n",
    "\n",
    "for filename in infiles:\n",
    "    # Your code comes here\n",
    "    infile = f\"in/{filename}\"\n",
    "    outfile = f\"out/{filename}.png\"\n",
    "    print(f\"working on {infile}...\")\n",
    "    !style_transfer $infile $mystyle -s $framewidth -o $outfile &> /dev/null\n",
    "    print(f\"\\t{outfile} ready!\")"
   ]
  },
  {
   "cell_type": "code",
   "execution_count": null,
   "id": "dcfcfe97-2593-4fb4-b9c0-6e964a4b6c4d",
   "metadata": {},
   "outputs": [],
   "source": [
    "# zip the files for download\n",
    "!zip -r out.zip out"
   ]
  },
  {
   "cell_type": "code",
   "execution_count": null,
   "id": "6ecd02c5-c86f-4463-984a-99fb043bd42f",
   "metadata": {},
   "outputs": [],
   "source": []
  }
 ],
 "metadata": {
  "kernelspec": {
   "display_name": "Python 3 (ipykernel)",
   "language": "python",
   "name": "python3"
  },
  "language_info": {
   "codemirror_mode": {
    "name": "ipython",
    "version": 3
   },
   "file_extension": ".py",
   "mimetype": "text/x-python",
   "name": "python",
   "nbconvert_exporter": "python",
   "pygments_lexer": "ipython3",
   "version": "3.9.16"
  }
 },
 "nbformat": 4,
 "nbformat_minor": 5
}
